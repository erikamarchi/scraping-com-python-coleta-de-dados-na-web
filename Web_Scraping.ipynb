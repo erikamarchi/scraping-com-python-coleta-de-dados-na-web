{
  "nbformat": 4,
  "nbformat_minor": 0,
  "metadata": {
    "colab": {
      "name": "Web Scraping.ipynb",
      "provenance": [],
      "include_colab_link": true
    },
    "kernelspec": {
      "display_name": "Python 3",
      "language": "python",
      "name": "python3"
    },
    "language_info": {
      "codemirror_mode": {
        "name": "ipython",
        "version": 3
      },
      "file_extension": ".py",
      "mimetype": "text/x-python",
      "name": "python",
      "nbconvert_exporter": "python",
      "pygments_lexer": "ipython3",
      "version": "3.7.3"
    }
  },
  "cells": [
    {
      "cell_type": "markdown",
      "metadata": {
        "id": "view-in-github",
        "colab_type": "text"
      },
      "source": [
        "<a href=\"https://colab.research.google.com/github/erikamarchi/scraping-com-python-coleta-de-dados-na-web/blob/main/Web_Scraping.ipynb\" target=\"_parent\"><img src=\"https://colab.research.google.com/assets/colab-badge.svg\" alt=\"Open In Colab\"/></a>"
      ]
    },
    {
      "cell_type": "markdown",
      "metadata": {
        "id": "xsl6fr_qG9QF"
      },
      "source": [
        "# <font color=green>1. MEU PRIMEIRO SCRAPING"
      ]
    },
    {
      "cell_type": "markdown",
      "metadata": {
        "id": "K-tGB-PtG9Qi"
      },
      "source": [
        "# 1.1. Introdução"
      ]
    },
    {
      "cell_type": "markdown",
      "metadata": {
        "id": "G4kiLUHOG9Ql"
      },
      "source": [
        "## *Web Scraping* é o termo utilizado para definir a prática de coletar automaticamente informações na Internet. Isto é feito, geralmente, por meio de programas que simulam a navegação humana na Web."
      ]
    },
    {
      "cell_type": "markdown",
      "metadata": {
        "id": "0lPZ2h2WG9Qp"
      },
      "source": [
        "# 1.2. Ambiente e bibliotecas\n",
        "### Utilizaremos em nosso treinamento o navegador Google Chrome"
      ]
    },
    {
      "cell_type": "code",
      "metadata": {
        "colab": {
          "base_uri": "https://localhost:8080/"
        },
        "id": "e9pXIMIWByAp",
        "outputId": "d98a1c77-9bab-4e4d-f42c-4961a61a5f69"
      },
      "source": [
        "import bs4\n",
        "import urllib.request as urllib_request\n",
        "import pandas\n",
        "\n",
        "print(\"BeautifulSoup ->\", bs4.__version__)\n",
        "print(\"urllib ->\", urllib_request.__version__)\n",
        "print(\"pandas ->\", pandas.__version__)"
      ],
      "execution_count": 1,
      "outputs": [
        {
          "output_type": "stream",
          "name": "stdout",
          "text": [
            "BeautifulSoup -> 4.6.3\n",
            "urllib -> 3.7\n",
            "pandas -> 1.1.5\n"
          ]
        }
      ]
    },
    {
      "cell_type": "markdown",
      "metadata": {
        "id": "mD4OpY7DG9Ra"
      },
      "source": [
        "# 1.3. Meu primeiro scraping"
      ]
    },
    {
      "cell_type": "code",
      "metadata": {
        "id": "fe_181njG9Rf"
      },
      "source": [
        ""
      ],
      "execution_count": null,
      "outputs": []
    },
    {
      "cell_type": "markdown",
      "metadata": {
        "id": "5r0xsNdiG9Rg"
      },
      "source": [
        "---\n",
        "# <font color=green>2. OBTENDO E TRATANDO O CONTEÚDO DE UM HTML"
      ]
    },
    {
      "cell_type": "markdown",
      "metadata": {
        "id": "93Kkk--ZG9Rh"
      },
      "source": [
        "# 2.1. Entendendo a web"
      ]
    },
    {
      "cell_type": "markdown",
      "metadata": {
        "id": "FRJ2r7BEG9Ri"
      },
      "source": [
        "<img src=\"./web/web.png\" width=\"700\">"
      ]
    },
    {
      "cell_type": "markdown",
      "metadata": {
        "id": "a8EIWBu7G9Rj"
      },
      "source": [
        "# 2.2. Obtendo o conteúdo HTML de um site"
      ]
    },
    {
      "cell_type": "markdown",
      "metadata": {
        "id": "bfjueIkiG9Rk"
      },
      "source": [
        "# urllib.request\n",
        "## https://docs.python.org/3/library/urllib.html"
      ]
    },
    {
      "cell_type": "code",
      "metadata": {
        "id": "c1pKGnTpgvFU"
      },
      "source": [
        ""
      ],
      "execution_count": null,
      "outputs": []
    },
    {
      "cell_type": "markdown",
      "metadata": {
        "id": "mmt9njInG9Rl"
      },
      "source": [
        "## https://docs.python.org/3/library/urllib.request.html#urllib.request.Request"
      ]
    },
    {
      "cell_type": "code",
      "metadata": {
        "id": "u1OJav4YG9Rm"
      },
      "source": [
        ""
      ],
      "execution_count": null,
      "outputs": []
    },
    {
      "cell_type": "markdown",
      "metadata": {
        "id": "kbk0Qk5EG9Rv"
      },
      "source": [
        "# 2.3. Tratamento de string"
      ]
    },
    {
      "cell_type": "code",
      "metadata": {
        "id": "2FaHc-2uG9Rx"
      },
      "source": [
        ""
      ],
      "execution_count": null,
      "outputs": []
    },
    {
      "cell_type": "markdown",
      "metadata": {
        "id": "GKgDYlZCG9Rz"
      },
      "source": [
        "### Convertando o tipo bytes para string"
      ]
    },
    {
      "cell_type": "code",
      "metadata": {
        "id": "_N1VqJ7mG9R2"
      },
      "source": [
        ""
      ],
      "execution_count": null,
      "outputs": []
    },
    {
      "cell_type": "code",
      "metadata": {
        "id": "i06n1qM2G9R3"
      },
      "source": [
        ""
      ],
      "execution_count": null,
      "outputs": []
    },
    {
      "cell_type": "code",
      "metadata": {
        "id": "ZI3m5kvNG9SG"
      },
      "source": [
        ""
      ],
      "execution_count": null,
      "outputs": []
    },
    {
      "cell_type": "code",
      "metadata": {
        "id": "S0fajalqG9SK"
      },
      "source": [
        ""
      ],
      "execution_count": null,
      "outputs": []
    },
    {
      "cell_type": "markdown",
      "metadata": {
        "id": "pv-yFbinG9SM"
      },
      "source": [
        "### Eliminando os caracteres de tabulação, quebra de linha etc."
      ]
    },
    {
      "cell_type": "code",
      "metadata": {
        "id": "fJ6bCSthG9SU"
      },
      "source": [
        ""
      ],
      "execution_count": null,
      "outputs": []
    },
    {
      "cell_type": "code",
      "metadata": {
        "scrolled": true,
        "id": "PgcGxKsHG9SW"
      },
      "source": [
        ""
      ],
      "execution_count": null,
      "outputs": []
    },
    {
      "cell_type": "markdown",
      "metadata": {
        "id": "YnEAEzeTG9SX"
      },
      "source": [
        "### Eliminando os espaços em branco entre as TAGS"
      ]
    },
    {
      "cell_type": "code",
      "metadata": {
        "scrolled": true,
        "id": "2yfMiCoVG9SY"
      },
      "source": [
        ""
      ],
      "execution_count": null,
      "outputs": []
    },
    {
      "cell_type": "markdown",
      "metadata": {
        "id": "xboenDSPG9Sa"
      },
      "source": [
        "### Função de tratamento de strings"
      ]
    },
    {
      "cell_type": "code",
      "metadata": {
        "id": "8M63M3VwG9Sj"
      },
      "source": [
        ""
      ],
      "execution_count": null,
      "outputs": []
    },
    {
      "cell_type": "code",
      "metadata": {
        "id": "uLw753KfG9Sk"
      },
      "source": [
        ""
      ],
      "execution_count": null,
      "outputs": []
    },
    {
      "cell_type": "code",
      "metadata": {
        "scrolled": true,
        "id": "nuQiFwwzG9Sk"
      },
      "source": [
        ""
      ],
      "execution_count": null,
      "outputs": []
    },
    {
      "cell_type": "code",
      "metadata": {
        "id": "BsfhL3sZFRZu"
      },
      "source": [
        "---\n",
        "# <font color=green>3. INTRODUÇÃO AO BEAUTIFULSOUP"
      ],
      "execution_count": null,
      "outputs": []
    },
    {
      "cell_type": "code",
      "metadata": {
        "id": "ASRbNVNpG9Sm"
      },
      "source": [
        "# 3.1. HTML da nossa página"
      ],
      "execution_count": null,
      "outputs": []
    },
    {
      "cell_type": "markdown",
      "metadata": {
        "id": "jO3ZiyFYG9Sn"
      },
      "source": [
        "**HTML** (*HyperText Markup Language*) é uma linguagem de marcação composta por **tags** que deteminam o papel que cada parte do documento vai assumir. As **tags** são formadas pelo seu nome e atributos. Os atributos servem para configurar e também modificar as características padrões de uma **tag**.\n",
        "\n",
        "## Estrutura básica\n",
        "\n",
        "```html\n",
        "<html>\n",
        "    <head>\n",
        "        <meta charset=\"utf-8\" />\n",
        "        <title>Alura Motors</title>\n",
        "    </head>\n",
        "    <body>\n",
        "        <div id=\"container\">\n",
        "            <h1>Alura</h1>\n",
        "            <h2 class=\"formato\">Cursos de Tecnologia</h2>\n",
        "            <p>Você vai estudar, praticar, discutir e aprender.</p>\n",
        "            <a href=\"https://www.alura.com.br/\">Clique aqui</a>\n",
        "        </div>\n",
        "    </body>\n",
        "</html>\n",
        "```\n",
        "\n",
        "```<html>``` - determina o início do documento.\n",
        "\n",
        "```<head>``` - cabeçalho. Contém informações e configurações do documento.\n",
        "\n",
        "```<body>``` - é o corpo do documento, onde todo o conteúdo é colocado. Esta é a parte visível em um navegador.\n",
        "\n",
        "## Tags mais comuns\n",
        "\n",
        "```<div>``` - define uma divisão da página. Pode ser formatada de diversas maneiras.\n",
        "\n",
        "```<h1>, <h2>, <h3>, <h4>, <h5>, <h6>``` - marcadores de títulos.\n",
        "\n",
        "```<p>``` - marcador de parágrafo.\n",
        "\n",
        "```<a>``` - hiperlink.\n",
        "\n",
        "```<img>``` - exibição de imagens.\n",
        "\n",
        "```<table>``` - definição de tabelas.\n",
        "\n",
        "```<ul>, <li>``` - definição de listas.\n"
      ]
    },
    {
      "cell_type": "markdown",
      "metadata": {
        "id": "_HAEvKxeG9Sp"
      },
      "source": [
        "# 3.2. Criando um objeto BeautifulSoup"
      ]
    },
    {
      "cell_type": "markdown",
      "metadata": {
        "id": "_LmW8PJIG9Ss"
      },
      "source": [
        "## https://www.crummy.com/software/BeautifulSoup/\n",
        "\n",
        "### Sobre parser ver: https://www.crummy.com/software/BeautifulSoup/bs4/doc/#parser-installation"
      ]
    },
    {
      "cell_type": "code",
      "metadata": {
        "id": "5Oxx_d0BCWGa",
        "scrolled": true
      },
      "source": [
        ""
      ],
      "execution_count": null,
      "outputs": []
    },
    {
      "cell_type": "code",
      "metadata": {
        "scrolled": true,
        "id": "T-insHQ5G9Su"
      },
      "source": [
        ""
      ],
      "execution_count": null,
      "outputs": []
    },
    {
      "cell_type": "markdown",
      "metadata": {
        "id": "_DRdUjKtG9S0"
      },
      "source": [
        "# 3.3. Acessando tags"
      ]
    },
    {
      "cell_type": "code",
      "metadata": {
        "scrolled": true,
        "id": "LT23Xti4G9S2"
      },
      "source": [
        ""
      ],
      "execution_count": null,
      "outputs": []
    },
    {
      "cell_type": "code",
      "metadata": {
        "scrolled": true,
        "id": "wCkicmVlG9S2"
      },
      "source": [
        ""
      ],
      "execution_count": null,
      "outputs": []
    },
    {
      "cell_type": "code",
      "metadata": {
        "id": "1dU3aC-hG9S3"
      },
      "source": [
        ""
      ],
      "execution_count": null,
      "outputs": []
    },
    {
      "cell_type": "code",
      "metadata": {
        "id": "r5SUY7wJG9S4"
      },
      "source": [
        ""
      ],
      "execution_count": null,
      "outputs": []
    },
    {
      "cell_type": "code",
      "metadata": {
        "id": "t5s9Mai2G9S4"
      },
      "source": [
        ""
      ],
      "execution_count": null,
      "outputs": []
    },
    {
      "cell_type": "markdown",
      "metadata": {
        "id": "dw8iA87OG9S6"
      },
      "source": [
        "# 3.4. Acessando o conteúdo das tags"
      ]
    },
    {
      "cell_type": "code",
      "metadata": {
        "id": "e8fEqHMNG9S7"
      },
      "source": [
        ""
      ],
      "execution_count": null,
      "outputs": []
    },
    {
      "cell_type": "code",
      "metadata": {
        "id": "2V7EErUpG9S8"
      },
      "source": [
        ""
      ],
      "execution_count": null,
      "outputs": []
    },
    {
      "cell_type": "code",
      "metadata": {
        "id": "vllHdrx9G9S9"
      },
      "source": [
        ""
      ],
      "execution_count": null,
      "outputs": []
    },
    {
      "cell_type": "code",
      "metadata": {
        "id": "3nYEakxvG9S-"
      },
      "source": [
        ""
      ],
      "execution_count": null,
      "outputs": []
    },
    {
      "cell_type": "code",
      "metadata": {
        "id": "bEzmsr5mG9S_"
      },
      "source": [
        ""
      ],
      "execution_count": null,
      "outputs": []
    },
    {
      "cell_type": "markdown",
      "metadata": {
        "id": "UgiLqBejG9TB"
      },
      "source": [
        "# 3.5. Acessando os atributos de uma tag"
      ]
    },
    {
      "cell_type": "code",
      "metadata": {
        "id": "pQRxIttuG9TH"
      },
      "source": [
        ""
      ],
      "execution_count": null,
      "outputs": []
    },
    {
      "cell_type": "code",
      "metadata": {
        "id": "GqlB57MXG9TI"
      },
      "source": [
        ""
      ],
      "execution_count": null,
      "outputs": []
    },
    {
      "cell_type": "code",
      "metadata": {
        "id": "GHRXYR6HG9TI"
      },
      "source": [
        ""
      ],
      "execution_count": null,
      "outputs": []
    },
    {
      "cell_type": "code",
      "metadata": {
        "id": "0vYJKZQBG9TJ"
      },
      "source": [
        ""
      ],
      "execution_count": null,
      "outputs": []
    },
    {
      "cell_type": "code",
      "metadata": {
        "id": "eBOu2ZkEG9TJ"
      },
      "source": [
        ""
      ],
      "execution_count": null,
      "outputs": []
    },
    {
      "cell_type": "code",
      "metadata": {
        "id": "8EMXBNf9G9TK"
      },
      "source": [
        ""
      ],
      "execution_count": null,
      "outputs": []
    },
    {
      "cell_type": "markdown",
      "metadata": {
        "id": "zGabNWR9G9TK"
      },
      "source": [
        "---\n",
        "# <font color=green>4. PESQUISANDO COM O BEAUTIFULSOUP"
      ]
    },
    {
      "cell_type": "markdown",
      "metadata": {
        "id": "QhAdNGbTG9TL"
      },
      "source": [
        "# 4.1. Os métodos *find()* e *findAll()*"
      ]
    },
    {
      "cell_type": "markdown",
      "metadata": {
        "id": "ccl-z9cRG9TL"
      },
      "source": [
        "- ### *find(tag, attributes, recursive, text, **kwargs)*\n",
        "\n",
        "- ### *findAll(tag, attributes, recursive, text, limit, **kwargs)*\n",
        "\n",
        "#### https://www.crummy.com/software/BeautifulSoup/bs4/doc/#find\n",
        "#### https://www.crummy.com/software/BeautifulSoup/bs4/doc/#find-all\n",
        "\n",
        "> **Observação:**\n",
        "> - *findAll()* também pode ser utilizado como *find_all()*"
      ]
    },
    {
      "cell_type": "markdown",
      "metadata": {
        "id": "plLdu3dVG9TM"
      },
      "source": [
        "### Método *find()*"
      ]
    },
    {
      "cell_type": "code",
      "metadata": {
        "id": "O0Lb-zX3G9TN"
      },
      "source": [
        ""
      ],
      "execution_count": null,
      "outputs": []
    },
    {
      "cell_type": "code",
      "metadata": {
        "id": "ZuCa6WzKG9TO"
      },
      "source": [
        ""
      ],
      "execution_count": null,
      "outputs": []
    },
    {
      "cell_type": "markdown",
      "metadata": {
        "id": "CXaFRaoHG9TP"
      },
      "source": [
        "### Método *findAll()*"
      ]
    },
    {
      "cell_type": "code",
      "metadata": {
        "id": "NlxILdkZG9TP"
      },
      "source": [
        ""
      ],
      "execution_count": null,
      "outputs": []
    },
    {
      "cell_type": "markdown",
      "metadata": {
        "id": "zNAShRDvG9TT"
      },
      "source": [
        "### Comando equivalente ao método *find()*"
      ]
    },
    {
      "cell_type": "code",
      "metadata": {
        "id": "uzdXlwGJG9TU"
      },
      "source": [
        ""
      ],
      "execution_count": null,
      "outputs": []
    },
    {
      "cell_type": "markdown",
      "metadata": {
        "id": "BbS9h2nuG9TV"
      },
      "source": [
        "### Atalho para o método *findAll()*"
      ]
    },
    {
      "cell_type": "code",
      "metadata": {
        "id": "Fw_Mf6QvG9TX"
      },
      "source": [
        ""
      ],
      "execution_count": null,
      "outputs": []
    },
    {
      "cell_type": "markdown",
      "metadata": {
        "id": "6woy7bh9G9TX"
      },
      "source": [
        "### Passando listas de TAGs"
      ]
    },
    {
      "cell_type": "code",
      "metadata": {
        "id": "BZI45F1-G9Ta"
      },
      "source": [
        ""
      ],
      "execution_count": null,
      "outputs": []
    },
    {
      "cell_type": "markdown",
      "metadata": {
        "id": "hH3TtI-MG9Tb"
      },
      "source": [
        "### Utilizando o argumento *attributes*"
      ]
    },
    {
      "cell_type": "code",
      "metadata": {
        "scrolled": true,
        "id": "tab5FVbHG9Tc"
      },
      "source": [
        ""
      ],
      "execution_count": null,
      "outputs": []
    },
    {
      "cell_type": "markdown",
      "metadata": {
        "id": "T24LPBmvG9Td"
      },
      "source": [
        "### Buscando por conteúdo de uma TAG"
      ]
    },
    {
      "cell_type": "code",
      "metadata": {
        "id": "UZN6qxkQG9Tk"
      },
      "source": [
        ""
      ],
      "execution_count": null,
      "outputs": []
    },
    {
      "cell_type": "markdown",
      "metadata": {
        "id": "x0Ub2RozG9Tk"
      },
      "source": [
        "### Utilizando diretamente os atributos"
      ]
    },
    {
      "cell_type": "code",
      "metadata": {
        "id": "oUqCOchGG9Tl"
      },
      "source": [
        ""
      ],
      "execution_count": null,
      "outputs": []
    },
    {
      "cell_type": "code",
      "metadata": {
        "id": "31a7XrM5G9Tm"
      },
      "source": [
        ""
      ],
      "execution_count": null,
      "outputs": []
    },
    {
      "cell_type": "markdown",
      "metadata": {
        "id": "eZQHbDwVG9Tn"
      },
      "source": [
        "### Cuidado com o atributo \"class\""
      ]
    },
    {
      "cell_type": "code",
      "metadata": {
        "id": "qXV_sBGOG9To"
      },
      "source": [
        ""
      ],
      "execution_count": null,
      "outputs": []
    },
    {
      "cell_type": "markdown",
      "metadata": {
        "id": "va4LBacxG9Tp"
      },
      "source": [
        "### Obtendo todo o conteúdo de texto de uma página"
      ]
    },
    {
      "cell_type": "code",
      "metadata": {
        "id": "aKaf17fcG9Tr"
      },
      "source": [
        ""
      ],
      "execution_count": null,
      "outputs": []
    },
    {
      "cell_type": "markdown",
      "metadata": {
        "id": "OeWF6fFSG9Tu"
      },
      "source": [
        "# 4.2. Outros métodos de pesquisa"
      ]
    },
    {
      "cell_type": "markdown",
      "metadata": {
        "id": "5fKQDGUpG9Tv"
      },
      "source": [
        "- ### *findParent(tag, attributes, text, **kwargs)*\n",
        "\n",
        "- ### *findParents(tag, attributes, text, limit, **kwargs)*\n",
        "\n",
        "#### https://www.crummy.com/software/BeautifulSoup/bs4/doc/#find-parents-and-find-parent\n",
        "\n",
        "> **Observação:**\n",
        "> - *findParent()* e *findParents()* também podem ser utilizados como *find_parent()* e *find_parents()*, respectivamente.\n",
        "---\n",
        "- ### *findNextSibling(tag, attributes, text, **kwargs)*\n",
        "\n",
        "- ### *findNextSiblings(tag, attributes, text, limit, **kwargs)*\n",
        "\n",
        "- ### *findPreviousSibling(tag, attributes, text, **kwargs)*\n",
        "\n",
        "- ### *findPreviousSiblings(tag, attributes, text, limit, **kwargs)*\n",
        "\n",
        "#### https://www.crummy.com/software/BeautifulSoup/bs4/doc/#find-next-siblings-and-find-next-sibling\n",
        "#### https://www.crummy.com/software/BeautifulSoup/bs4/doc/#find-previous-siblings-and-find-previous-sibling\n",
        "\n",
        "> **Observação:**\n",
        "> - *findNextSibling()*, *findNextSiblings()*, *findPreviousSibling()* e *findPreviousSiblings()* também podem ser utilizados como *find_next_sibling()*, *find_next_siblings()*, *find_previous_sibling()* e *find_previous_siblings()*, respectivamente.\n",
        "---\n",
        "- ### *findNext(tag, attributes, text, **kwargs)*\n",
        "\n",
        "- ### *findAllNext(tag, attributes, text, limit, **kwargs)*\n",
        "\n",
        "- ### *findPrevious(tag, attributes, text, **kwargs)*\n",
        "\n",
        "- ### *findAllPrevious(tag, attributes, text, limit, **kwargs)*\n",
        "\n",
        "#### https://www.crummy.com/software/BeautifulSoup/bs4/doc/#find-all-next-and-find-next\n",
        "#### https://www.crummy.com/software/BeautifulSoup/bs4/doc/#find-all-previous-and-find-previous\n",
        "\n",
        "> **Observação:**\n",
        "> - *findNext()*, *findAllNext()*, *findPrevious* e *findAllPrevious* também podem ser utilizados como *find_next()*, *find_all_next()*, *find_previous()* e *find_all_previous()*, respectivamente."
      ]
    },
    {
      "cell_type": "markdown",
      "metadata": {
        "id": "F33uhHcUG9Tw"
      },
      "source": [
        "## HTML de exemplo para ilustrar a utilização dos métodos de pesquisa do BeautifulSoup"
      ]
    },
    {
      "cell_type": "markdown",
      "metadata": {
        "id": "jhf2ARaYG9Tz"
      },
      "source": [
        "<img src=\"https://caelum-online-public.s3.amazonaws.com/1381-scraping/01/BeautifulSoup-method.png\" width=80%>"
      ]
    },
    {
      "cell_type": "markdown",
      "metadata": {
        "id": "yxLZf7ICG9T1"
      },
      "source": [
        "---\n",
        "## Resultado"
      ]
    },
    {
      "cell_type": "markdown",
      "metadata": {
        "id": "9gTKESpTG9T2"
      },
      "source": [
        "<html>\n",
        "    <body>\n",
        "        <div id=“container-a”>\n",
        "            <h1>Título A</h1>\n",
        "            <h2 class=\"ref-a\">Sub título A</h2>\n",
        "            <p>Texto de conteúdo A</p>\n",
        "        </div>\n",
        "        <div id=“container-b”>\n",
        "            <h1>Título B</h1>\n",
        "            <h2 class=\"ref-b\">Sub título B</h2>\n",
        "            <p>Texto de conteúdo B</p>\n",
        "        </div>\n",
        "    </body>\n",
        "</html>"
      ]
    },
    {
      "cell_type": "code",
      "metadata": {
        "id": "bNB-zF2tG9T5"
      },
      "source": [
        ""
      ],
      "execution_count": null,
      "outputs": []
    },
    {
      "cell_type": "markdown",
      "metadata": {
        "id": "xtSJKtdgG9T6"
      },
      "source": [
        "### Tratamentos para a string HTML"
      ]
    },
    {
      "cell_type": "code",
      "metadata": {
        "id": "Zjb2TxJFG9T6"
      },
      "source": [
        ""
      ],
      "execution_count": null,
      "outputs": []
    },
    {
      "cell_type": "code",
      "metadata": {
        "id": "ppDRemuyG9T7"
      },
      "source": [
        ""
      ],
      "execution_count": null,
      "outputs": []
    },
    {
      "cell_type": "markdown",
      "metadata": {
        "id": "mzzJ2xebG9T8"
      },
      "source": [
        "### Criando o objeto BeautifulSoup"
      ]
    },
    {
      "cell_type": "code",
      "metadata": {
        "scrolled": true,
        "id": "_DfTUfMUG9T8"
      },
      "source": [
        ""
      ],
      "execution_count": null,
      "outputs": []
    },
    {
      "cell_type": "markdown",
      "metadata": {
        "id": "Q3r9XNfsG9T-"
      },
      "source": [
        "### Parents"
      ]
    },
    {
      "cell_type": "code",
      "metadata": {
        "id": "C9ylAppFG9T_"
      },
      "source": [
        ""
      ],
      "execution_count": null,
      "outputs": []
    },
    {
      "cell_type": "code",
      "metadata": {
        "id": "Ypzz02T_G9UB"
      },
      "source": [
        ""
      ],
      "execution_count": null,
      "outputs": []
    },
    {
      "cell_type": "code",
      "metadata": {
        "id": "sKUHUuesG9UK"
      },
      "source": [
        ""
      ],
      "execution_count": null,
      "outputs": []
    },
    {
      "cell_type": "code",
      "metadata": {
        "id": "gFKkg8UoG9UM"
      },
      "source": [
        ""
      ],
      "execution_count": null,
      "outputs": []
    },
    {
      "cell_type": "code",
      "metadata": {
        "id": "HuNELgdkG9UN"
      },
      "source": [
        ""
      ],
      "execution_count": null,
      "outputs": []
    },
    {
      "cell_type": "markdown",
      "metadata": {
        "id": "tuvZ0Ie8G9UO"
      },
      "source": [
        "## Siblings"
      ]
    },
    {
      "cell_type": "code",
      "metadata": {
        "id": "jmtz_g1YG9UP"
      },
      "source": [
        ""
      ],
      "execution_count": null,
      "outputs": []
    },
    {
      "cell_type": "code",
      "metadata": {
        "id": "s22j2h_QG9UP"
      },
      "source": [
        ""
      ],
      "execution_count": null,
      "outputs": []
    },
    {
      "cell_type": "code",
      "metadata": {
        "id": "0waRPx7HG9UQ"
      },
      "source": [
        ""
      ],
      "execution_count": null,
      "outputs": []
    },
    {
      "cell_type": "markdown",
      "metadata": {
        "id": "WVwMolTwG9UR"
      },
      "source": [
        "## Next e Previous"
      ]
    },
    {
      "cell_type": "code",
      "metadata": {
        "id": "KD6yhweeG9US"
      },
      "source": [
        ""
      ],
      "execution_count": null,
      "outputs": []
    },
    {
      "cell_type": "code",
      "metadata": {
        "id": "ww7-Px4WG9US"
      },
      "source": [
        ""
      ],
      "execution_count": null,
      "outputs": []
    },
    {
      "cell_type": "code",
      "metadata": {
        "id": "ntWNJYJ8G9UX"
      },
      "source": [
        ""
      ],
      "execution_count": null,
      "outputs": []
    },
    {
      "cell_type": "markdown",
      "metadata": {
        "id": "65JS7V5HG9UY"
      },
      "source": [
        "# <font color=green>5. WEB SCRAPING DO SITE ALURA MOTORS - OBTENDO OS DADOS DE UM ANÚNCIO"
      ]
    },
    {
      "cell_type": "markdown",
      "metadata": {
        "id": "JV3U7GvJG9UZ"
      },
      "source": [
        "# 5.1. Identificando e selecionando os dados no HTML"
      ]
    },
    {
      "cell_type": "markdown",
      "metadata": {
        "id": "0Ql4zyz5G9Uf"
      },
      "source": [
        "### Obtendo o HTML e criando o objeto BeautifulSoup"
      ]
    },
    {
      "cell_type": "code",
      "metadata": {
        "id": "Oo66ZEFrG9Ug"
      },
      "source": [
        ""
      ],
      "execution_count": null,
      "outputs": []
    },
    {
      "cell_type": "markdown",
      "metadata": {
        "id": "JccY4sKXG9Uh"
      },
      "source": [
        "### Criando variávels para armazenar informações"
      ]
    },
    {
      "cell_type": "code",
      "metadata": {
        "id": "5QSgT_qwG9Ui"
      },
      "source": [
        ""
      ],
      "execution_count": null,
      "outputs": []
    },
    {
      "cell_type": "markdown",
      "metadata": {
        "id": "QbnKQxBcG9Uq"
      },
      "source": [
        "### Obtendo os dados do primeiro CARD"
      ]
    },
    {
      "cell_type": "code",
      "metadata": {
        "scrolled": false,
        "id": "zPzzjpXXG9Ur"
      },
      "source": [
        ""
      ],
      "execution_count": null,
      "outputs": []
    },
    {
      "cell_type": "markdown",
      "metadata": {
        "id": "eyBEXDG0G9Us"
      },
      "source": [
        "# 5.2. Obtendo o VALOR do veículo anunciado"
      ]
    },
    {
      "cell_type": "code",
      "metadata": {
        "id": "lIA98l14G9Ut"
      },
      "source": [
        ""
      ],
      "execution_count": null,
      "outputs": []
    },
    {
      "cell_type": "code",
      "metadata": {
        "id": "1XfA9D4GG9Ut"
      },
      "source": [
        ""
      ],
      "execution_count": null,
      "outputs": []
    },
    {
      "cell_type": "code",
      "metadata": {
        "id": "vMPcZzHsG9Uu"
      },
      "source": [
        ""
      ],
      "execution_count": null,
      "outputs": []
    },
    {
      "cell_type": "code",
      "metadata": {
        "id": "t1aEpZTXG9Uy"
      },
      "source": [
        ""
      ],
      "execution_count": null,
      "outputs": []
    },
    {
      "cell_type": "code",
      "metadata": {
        "id": "gFwfhRf3G9Uy"
      },
      "source": [
        ""
      ],
      "execution_count": null,
      "outputs": []
    },
    {
      "cell_type": "markdown",
      "metadata": {
        "id": "LgJo4WxAG9Uy"
      },
      "source": [
        "### <font color=red>Resumo"
      ]
    },
    {
      "cell_type": "code",
      "metadata": {
        "id": "gPKkbwy1G9Uz"
      },
      "source": [
        "# Valor\n"
      ],
      "execution_count": null,
      "outputs": []
    },
    {
      "cell_type": "markdown",
      "metadata": {
        "id": "-ttwcqiOG9U6"
      },
      "source": [
        "# 5.3. Obtendo as INFORMAÇÕES sobre o veículo anunciado"
      ]
    },
    {
      "cell_type": "code",
      "metadata": {
        "id": "lQxp18LFG9VC"
      },
      "source": [
        ""
      ],
      "execution_count": null,
      "outputs": []
    },
    {
      "cell_type": "code",
      "metadata": {
        "id": "KxYMleiQG9VD"
      },
      "source": [
        ""
      ],
      "execution_count": null,
      "outputs": []
    },
    {
      "cell_type": "code",
      "metadata": {
        "id": "SxlHlh7NG9VE"
      },
      "source": [
        ""
      ],
      "execution_count": null,
      "outputs": []
    },
    {
      "cell_type": "code",
      "metadata": {
        "id": "9NR6LbqcG9VI"
      },
      "source": [
        ""
      ],
      "execution_count": null,
      "outputs": []
    },
    {
      "cell_type": "code",
      "metadata": {
        "id": "lN1g3c_OG9VL"
      },
      "source": [
        ""
      ],
      "execution_count": null,
      "outputs": []
    },
    {
      "cell_type": "code",
      "metadata": {
        "id": "EGDsbkBBG9VN"
      },
      "source": [
        ""
      ],
      "execution_count": null,
      "outputs": []
    },
    {
      "cell_type": "code",
      "metadata": {
        "id": "6_rxf5ZaG9VN"
      },
      "source": [
        ""
      ],
      "execution_count": null,
      "outputs": []
    },
    {
      "cell_type": "code",
      "metadata": {
        "id": "02H5cP4XG9VO"
      },
      "source": [
        ""
      ],
      "execution_count": null,
      "outputs": []
    },
    {
      "cell_type": "markdown",
      "metadata": {
        "id": "YJt-SFNoG9VR"
      },
      "source": [
        "### <font color=red>Resumo"
      ]
    },
    {
      "cell_type": "code",
      "metadata": {
        "id": "DhCWEgVSG9VS"
      },
      "source": [
        "# Informações\n"
      ],
      "execution_count": null,
      "outputs": []
    },
    {
      "cell_type": "markdown",
      "metadata": {
        "id": "VxIlpvZwG9VT"
      },
      "source": [
        "# 5.4. Obtendo os ACESSÓRIOS do veículo anunciado"
      ]
    },
    {
      "cell_type": "code",
      "metadata": {
        "id": "8kcYqSIeG9VT"
      },
      "source": [
        ""
      ],
      "execution_count": null,
      "outputs": []
    },
    {
      "cell_type": "code",
      "metadata": {
        "id": "MG1-YbKsG9VU"
      },
      "source": [
        ""
      ],
      "execution_count": null,
      "outputs": []
    },
    {
      "cell_type": "code",
      "metadata": {
        "id": "HY6tyaZqG9VU"
      },
      "source": [
        ""
      ],
      "execution_count": null,
      "outputs": []
    },
    {
      "cell_type": "code",
      "metadata": {
        "id": "FhdXzH3fG9Vb"
      },
      "source": [
        ""
      ],
      "execution_count": null,
      "outputs": []
    },
    {
      "cell_type": "code",
      "metadata": {
        "id": "qnaoGBNPG9Vw"
      },
      "source": [
        ""
      ],
      "execution_count": null,
      "outputs": []
    },
    {
      "cell_type": "code",
      "metadata": {
        "id": "aJi9ENvIG9Vw"
      },
      "source": [
        ""
      ],
      "execution_count": null,
      "outputs": []
    },
    {
      "cell_type": "code",
      "metadata": {
        "id": "NRzwqk3eG9Vx"
      },
      "source": [
        ""
      ],
      "execution_count": null,
      "outputs": []
    },
    {
      "cell_type": "code",
      "metadata": {
        "id": "HHS3JiSDG9Vx"
      },
      "source": [
        ""
      ],
      "execution_count": null,
      "outputs": []
    },
    {
      "cell_type": "markdown",
      "metadata": {
        "id": "8AMzXLyjG9Vy"
      },
      "source": [
        "### <font color=red>Resumo"
      ]
    },
    {
      "cell_type": "code",
      "metadata": {
        "id": "gVBfmioNG9Vy"
      },
      "source": [
        "# Acessórios\n"
      ],
      "execution_count": null,
      "outputs": []
    },
    {
      "cell_type": "markdown",
      "metadata": {
        "id": "Z1oIR9x9G9Vz"
      },
      "source": [
        "# 5.5 Criando um DataFrame com os dados coletados do Alura Motors"
      ]
    },
    {
      "cell_type": "code",
      "metadata": {
        "id": "5xxqjc9aG9Vz"
      },
      "source": [
        ""
      ],
      "execution_count": null,
      "outputs": []
    },
    {
      "cell_type": "code",
      "metadata": {
        "id": "22X8EUd3G9V0"
      },
      "source": [
        ""
      ],
      "execution_count": null,
      "outputs": []
    },
    {
      "cell_type": "code",
      "metadata": {
        "id": "toqD60QdG9V1"
      },
      "source": [
        ""
      ],
      "execution_count": null,
      "outputs": []
    },
    {
      "cell_type": "code",
      "metadata": {
        "id": "Odx65HhYG9WE"
      },
      "source": [
        ""
      ],
      "execution_count": null,
      "outputs": []
    },
    {
      "cell_type": "code",
      "metadata": {
        "id": "BbTwsJb6G9WE"
      },
      "source": [
        ""
      ],
      "execution_count": null,
      "outputs": []
    },
    {
      "cell_type": "code",
      "metadata": {
        "id": "CF2ZnhRcG9WF"
      },
      "source": [
        ""
      ],
      "execution_count": null,
      "outputs": []
    },
    {
      "cell_type": "code",
      "metadata": {
        "id": "2zIQnHqcG9WF"
      },
      "source": [
        ""
      ],
      "execution_count": null,
      "outputs": []
    },
    {
      "cell_type": "code",
      "metadata": {
        "id": "_OWjTHEJG9WF"
      },
      "source": [
        ""
      ],
      "execution_count": null,
      "outputs": []
    },
    {
      "cell_type": "markdown",
      "metadata": {
        "id": "ljnXXQO9G9WF"
      },
      "source": [
        "# 5.6. Obtendo a FOTO do anúncio"
      ]
    },
    {
      "cell_type": "code",
      "metadata": {
        "id": "YoLhOjOCG9WG"
      },
      "source": [
        ""
      ],
      "execution_count": null,
      "outputs": []
    },
    {
      "cell_type": "code",
      "metadata": {
        "id": "cNyXp0_FG9WG"
      },
      "source": [
        ""
      ],
      "execution_count": null,
      "outputs": []
    },
    {
      "cell_type": "code",
      "metadata": {
        "id": "oiOii3FWG9WH"
      },
      "source": [
        ""
      ],
      "execution_count": null,
      "outputs": []
    },
    {
      "cell_type": "markdown",
      "metadata": {
        "id": "EJcDrUT7G9WR"
      },
      "source": [
        "### Visualizando a FOTO no notebook (extra)"
      ]
    },
    {
      "cell_type": "code",
      "metadata": {
        "id": "jInZs_CQG9WV"
      },
      "source": [
        ""
      ],
      "execution_count": null,
      "outputs": []
    },
    {
      "cell_type": "code",
      "metadata": {
        "id": "yW6ly8-xG9WW"
      },
      "source": [
        ""
      ],
      "execution_count": null,
      "outputs": []
    },
    {
      "cell_type": "markdown",
      "metadata": {
        "id": "IRH--V3KG9WX"
      },
      "source": [
        "### Rotina para acessar e salvar a FOTO do anúncio"
      ]
    },
    {
      "cell_type": "markdown",
      "metadata": {
        "id": "a0JnOREgG9We"
      },
      "source": [
        "## https://docs.python.org/3/library/urllib.request.html#urllib.request.urlretrieve"
      ]
    },
    {
      "cell_type": "code",
      "metadata": {
        "id": "BOCj7pnPG9Wg"
      },
      "source": [
        ""
      ],
      "execution_count": null,
      "outputs": []
    },
    {
      "cell_type": "code",
      "metadata": {
        "id": "b7kljn7uG9Wi"
      },
      "source": [
        ""
      ],
      "execution_count": null,
      "outputs": []
    },
    {
      "cell_type": "markdown",
      "metadata": {
        "id": "hDvi2ibOG9Wj"
      },
      "source": [
        "### <font color=red>Resumo"
      ]
    },
    {
      "cell_type": "code",
      "metadata": {
        "id": "dtmnRvu2G9Wl"
      },
      "source": [
        ""
      ],
      "execution_count": null,
      "outputs": []
    },
    {
      "cell_type": "markdown",
      "metadata": {
        "id": "1ZwYhx2_G9Wn"
      },
      "source": [
        "# <font color=green>6. WEB SCRAPING DO SITE ALURA MOTORS - OBTENDO OS DADOS DE TODOS OS ANÚNCIOS DE UMA PÁGINA"
      ]
    },
    {
      "cell_type": "markdown",
      "metadata": {
        "id": "PhTijHjTG9Wn"
      },
      "source": [
        "# 6.1. Identificando as informações no HTML"
      ]
    },
    {
      "cell_type": "code",
      "metadata": {
        "scrolled": true,
        "id": "9atW4a1HG9Wr"
      },
      "source": [
        ""
      ],
      "execution_count": null,
      "outputs": []
    },
    {
      "cell_type": "code",
      "metadata": {
        "scrolled": true,
        "id": "x-MD1UGIG9Ws"
      },
      "source": [
        ""
      ],
      "execution_count": null,
      "outputs": []
    },
    {
      "cell_type": "code",
      "metadata": {
        "scrolled": true,
        "id": "eqvN00aBG9Wt"
      },
      "source": [
        ""
      ],
      "execution_count": null,
      "outputs": []
    },
    {
      "cell_type": "markdown",
      "metadata": {
        "id": "CQKyaTRTG9Wu"
      },
      "source": [
        "# 6.2. Criando uma rotina de scraping"
      ]
    },
    {
      "cell_type": "code",
      "metadata": {
        "id": "MfIQJa9CG9W3"
      },
      "source": [
        ""
      ],
      "execution_count": null,
      "outputs": []
    },
    {
      "cell_type": "code",
      "metadata": {
        "id": "qV2vxf5LG9W4"
      },
      "source": [
        ""
      ],
      "execution_count": null,
      "outputs": []
    },
    {
      "cell_type": "markdown",
      "metadata": {
        "id": "pT3ta7HjG9W4"
      },
      "source": [
        "# <font color=green>7. WEB SCRAPING DO SITE ALURA MOTORS - OBTENDO OS DADOS DE TODOS OS ANÚNCIOS DO SITE"
      ]
    },
    {
      "cell_type": "markdown",
      "metadata": {
        "id": "qjJdrDj4G9W9"
      },
      "source": [
        "# 7.1. Identificando as informações no HTML"
      ]
    },
    {
      "cell_type": "code",
      "metadata": {
        "id": "zHHhyfC2G9XC"
      },
      "source": [
        ""
      ],
      "execution_count": null,
      "outputs": []
    },
    {
      "cell_type": "code",
      "metadata": {
        "scrolled": true,
        "id": "ii7MbTsbG9XD"
      },
      "source": [
        ""
      ],
      "execution_count": null,
      "outputs": []
    },
    {
      "cell_type": "code",
      "metadata": {
        "id": "74T6tukIG9XE"
      },
      "source": [
        ""
      ],
      "execution_count": null,
      "outputs": []
    },
    {
      "cell_type": "code",
      "metadata": {
        "id": "vp_3cfskG9XF"
      },
      "source": [
        ""
      ],
      "execution_count": null,
      "outputs": []
    },
    {
      "cell_type": "code",
      "metadata": {
        "id": "pBosvi0mG9XG"
      },
      "source": [
        ""
      ],
      "execution_count": null,
      "outputs": []
    },
    {
      "cell_type": "markdown",
      "metadata": {
        "id": "7LniAxgmG9XH"
      },
      "source": [
        "# 7.2. Criando uma rotina de scraping"
      ]
    },
    {
      "cell_type": "code",
      "metadata": {
        "scrolled": true,
        "id": "asW6PHZGG9XI"
      },
      "source": [
        ""
      ],
      "execution_count": null,
      "outputs": []
    },
    {
      "cell_type": "code",
      "metadata": {
        "id": "rcnAQBKuG9XJ"
      },
      "source": [
        ""
      ],
      "execution_count": null,
      "outputs": []
    },
    {
      "cell_type": "code",
      "metadata": {
        "id": "4Voeq6hSG9XL"
      },
      "source": [
        ""
      ],
      "execution_count": null,
      "outputs": []
    },
    {
      "cell_type": "code",
      "metadata": {
        "id": "7lDI2F7gG9XM"
      },
      "source": [
        ""
      ],
      "execution_count": null,
      "outputs": []
    }
  ]
}